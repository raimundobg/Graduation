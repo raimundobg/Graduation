{
 "cells": [
  {
   "cell_type": "markdown",
   "metadata": {},
   "source": [
    "Raimundo Burchardt\n",
    "Student Number: 1779575\n",
    "Master: Data-Driven-Design"
   ]
  },
  {
   "cell_type": "markdown",
   "metadata": {},
   "source": [
    "# Data Cleaning : Mentors / mentee seekers from Europe"
   ]
  },
  {
   "cell_type": "code",
   "execution_count": 1,
   "metadata": {},
   "outputs": [],
   "source": [
    "import pandas as pd"
   ]
  },
  {
   "cell_type": "code",
   "execution_count": 2,
   "metadata": {},
   "outputs": [],
   "source": [
    "#2) import dataset obtained from the survey in GoogleForm converted into .csv format"
   ]
  },
  {
   "cell_type": "code",
   "execution_count": 3,
   "metadata": {},
   "outputs": [],
   "source": [
    "df = pd.read_csv('mentor_eu.csv')\n",
    "#df_ch = pd.read_csv('mentors_students_cleaned.csv')"
   ]
  },
  {
   "cell_type": "code",
   "execution_count": null,
   "metadata": {},
   "outputs": [],
   "source": []
  },
  {
   "cell_type": "code",
   "execution_count": 4,
   "metadata": {},
   "outputs": [
    {
     "data": {
      "text/html": [
       "<div>\n",
       "<style scoped>\n",
       "    .dataframe tbody tr th:only-of-type {\n",
       "        vertical-align: middle;\n",
       "    }\n",
       "\n",
       "    .dataframe tbody tr th {\n",
       "        vertical-align: top;\n",
       "    }\n",
       "\n",
       "    .dataframe thead th {\n",
       "        text-align: right;\n",
       "    }\n",
       "</style>\n",
       "<table border=\"1\" class=\"dataframe\">\n",
       "  <thead>\n",
       "    <tr style=\"text-align: right;\">\n",
       "      <th></th>\n",
       "      <th>Timestamp</th>\n",
       "      <th>intelligence_type</th>\n",
       "      <th>mentor_role</th>\n",
       "      <th>mentor_career</th>\n",
       "      <th>mentor_skills</th>\n",
       "      <th>session_freq</th>\n",
       "      <th>mentee_attribute</th>\n",
       "      <th>mentee_desired_age</th>\n",
       "      <th>mentee_desired_gender</th>\n",
       "      <th>mentor_age</th>\n",
       "      <th>mentor_gender</th>\n",
       "    </tr>\n",
       "  </thead>\n",
       "  <tbody>\n",
       "    <tr>\n",
       "      <th>0</th>\n",
       "      <td>2021/06/21 8:43:06 pm EET</td>\n",
       "      <td>musical;existential;interpersonal</td>\n",
       "      <td>To support with decision making;To motivate</td>\n",
       "      <td>Sustainability</td>\n",
       "      <td>Communication skills</td>\n",
       "      <td>Once per week ( 15 - 30 minute session)</td>\n",
       "      <td>Empathy</td>\n",
       "      <td>17-21</td>\n",
       "      <td>Not relevant</td>\n",
       "      <td>26</td>\n",
       "      <td>Male</td>\n",
       "    </tr>\n",
       "    <tr>\n",
       "      <th>1</th>\n",
       "      <td>2021/06/24 11:09:38 am EET</td>\n",
       "      <td>interpersonal</td>\n",
       "      <td>To motivate</td>\n",
       "      <td>Design</td>\n",
       "      <td>Communication skills</td>\n",
       "      <td>Instead of sessions I would prefer weekly e-ma...</td>\n",
       "      <td>Enthusiam</td>\n",
       "      <td>Not relevant</td>\n",
       "      <td>Not relevant</td>\n",
       "      <td>21</td>\n",
       "      <td>Male</td>\n",
       "    </tr>\n",
       "    <tr>\n",
       "      <th>2</th>\n",
       "      <td>2021/06/24 1:00:15 pm EET</td>\n",
       "      <td>interpersonal;linguistic</td>\n",
       "      <td>To offer guidance;To motivate</td>\n",
       "      <td>Design</td>\n",
       "      <td>Writing skills</td>\n",
       "      <td>Once per week ( 15 - 30 minute session)</td>\n",
       "      <td>Enthusiam</td>\n",
       "      <td>Not relevant</td>\n",
       "      <td>Not relevant</td>\n",
       "      <td>32</td>\n",
       "      <td>Female</td>\n",
       "    </tr>\n",
       "    <tr>\n",
       "      <th>3</th>\n",
       "      <td>2021/06/24 1:50:07 pm EET</td>\n",
       "      <td>mathematical;corporal</td>\n",
       "      <td>To motivate;To help to solve problems</td>\n",
       "      <td>Sustainability</td>\n",
       "      <td>Communication skills</td>\n",
       "      <td>Instead of sessions I would prefer weekly e-ma...</td>\n",
       "      <td>Meticulousness</td>\n",
       "      <td>17-21</td>\n",
       "      <td>Not relevant</td>\n",
       "      <td>27</td>\n",
       "      <td>Female</td>\n",
       "    </tr>\n",
       "    <tr>\n",
       "      <th>4</th>\n",
       "      <td>2021/06/24 3:33:47 pm EET</td>\n",
       "      <td>existential;interpersonal;corporal</td>\n",
       "      <td>To support with decision making;To help to sol...</td>\n",
       "      <td>Design</td>\n",
       "      <td>Expertise in the field selected in the previou...</td>\n",
       "      <td>Twice per month ( 15 - 30 minute session)</td>\n",
       "      <td>Empathy</td>\n",
       "      <td>Not relevant</td>\n",
       "      <td>Not relevant</td>\n",
       "      <td>27</td>\n",
       "      <td>Male</td>\n",
       "    </tr>\n",
       "  </tbody>\n",
       "</table>\n",
       "</div>"
      ],
      "text/plain": [
       "                    Timestamp                   intelligence_type  \\\n",
       "0   2021/06/21 8:43:06 pm EET   musical;existential;interpersonal   \n",
       "1  2021/06/24 11:09:38 am EET                       interpersonal   \n",
       "2   2021/06/24 1:00:15 pm EET            interpersonal;linguistic   \n",
       "3   2021/06/24 1:50:07 pm EET               mathematical;corporal   \n",
       "4   2021/06/24 3:33:47 pm EET  existential;interpersonal;corporal   \n",
       "\n",
       "                                         mentor_role   mentor_career  \\\n",
       "0        To support with decision making;To motivate  Sustainability   \n",
       "1                                        To motivate          Design   \n",
       "2                      To offer guidance;To motivate          Design   \n",
       "3              To motivate;To help to solve problems  Sustainability   \n",
       "4  To support with decision making;To help to sol...          Design   \n",
       "\n",
       "                                       mentor_skills  \\\n",
       "0                               Communication skills   \n",
       "1                               Communication skills   \n",
       "2                                     Writing skills   \n",
       "3                               Communication skills   \n",
       "4  Expertise in the field selected in the previou...   \n",
       "\n",
       "                                        session_freq mentee_attribute  \\\n",
       "0            Once per week ( 15 - 30 minute session)          Empathy   \n",
       "1  Instead of sessions I would prefer weekly e-ma...        Enthusiam   \n",
       "2            Once per week ( 15 - 30 minute session)        Enthusiam   \n",
       "3  Instead of sessions I would prefer weekly e-ma...   Meticulousness   \n",
       "4          Twice per month ( 15 - 30 minute session)          Empathy   \n",
       "\n",
       "  mentee_desired_age mentee_desired_gender  mentor_age mentor_gender  \n",
       "0              17-21          Not relevant          26          Male  \n",
       "1       Not relevant          Not relevant          21          Male  \n",
       "2       Not relevant          Not relevant          32        Female  \n",
       "3              17-21          Not relevant          27        Female  \n",
       "4       Not relevant          Not relevant          27          Male  "
      ]
     },
     "execution_count": 4,
     "metadata": {},
     "output_type": "execute_result"
    }
   ],
   "source": [
    "df.head(5)"
   ]
  },
  {
   "cell_type": "code",
   "execution_count": 5,
   "metadata": {},
   "outputs": [],
   "source": [
    "# convert whole dataframe to lower_case\n",
    "df = df.applymap(lambda s:s.lower() if type(s) == str else s)"
   ]
  },
  {
   "cell_type": "code",
   "execution_count": 6,
   "metadata": {},
   "outputs": [
    {
     "data": {
      "text/html": [
       "<div>\n",
       "<style scoped>\n",
       "    .dataframe tbody tr th:only-of-type {\n",
       "        vertical-align: middle;\n",
       "    }\n",
       "\n",
       "    .dataframe tbody tr th {\n",
       "        vertical-align: top;\n",
       "    }\n",
       "\n",
       "    .dataframe thead th {\n",
       "        text-align: right;\n",
       "    }\n",
       "</style>\n",
       "<table border=\"1\" class=\"dataframe\">\n",
       "  <thead>\n",
       "    <tr style=\"text-align: right;\">\n",
       "      <th></th>\n",
       "      <th>Timestamp</th>\n",
       "      <th>intelligence_type</th>\n",
       "      <th>mentor_role</th>\n",
       "      <th>mentor_career</th>\n",
       "      <th>mentor_skills</th>\n",
       "      <th>session_freq</th>\n",
       "      <th>mentee_attribute</th>\n",
       "      <th>mentee_desired_age</th>\n",
       "      <th>mentee_desired_gender</th>\n",
       "      <th>mentor_age</th>\n",
       "      <th>mentor_gender</th>\n",
       "    </tr>\n",
       "  </thead>\n",
       "  <tbody>\n",
       "    <tr>\n",
       "      <th>0</th>\n",
       "      <td>2021/06/21 8:43:06 pm eet</td>\n",
       "      <td>musical;existential;interpersonal</td>\n",
       "      <td>to support with decision making;to motivate</td>\n",
       "      <td>sustainability</td>\n",
       "      <td>communication skills</td>\n",
       "      <td>once per week ( 15 - 30 minute session)</td>\n",
       "      <td>empathy</td>\n",
       "      <td>17-21</td>\n",
       "      <td>not relevant</td>\n",
       "      <td>26</td>\n",
       "      <td>male</td>\n",
       "    </tr>\n",
       "    <tr>\n",
       "      <th>1</th>\n",
       "      <td>2021/06/24 11:09:38 am eet</td>\n",
       "      <td>interpersonal</td>\n",
       "      <td>to motivate</td>\n",
       "      <td>design</td>\n",
       "      <td>communication skills</td>\n",
       "      <td>instead of sessions i would prefer weekly e-ma...</td>\n",
       "      <td>enthusiam</td>\n",
       "      <td>not relevant</td>\n",
       "      <td>not relevant</td>\n",
       "      <td>21</td>\n",
       "      <td>male</td>\n",
       "    </tr>\n",
       "  </tbody>\n",
       "</table>\n",
       "</div>"
      ],
      "text/plain": [
       "                    Timestamp                  intelligence_type  \\\n",
       "0   2021/06/21 8:43:06 pm eet  musical;existential;interpersonal   \n",
       "1  2021/06/24 11:09:38 am eet                      interpersonal   \n",
       "\n",
       "                                   mentor_role   mentor_career  \\\n",
       "0  to support with decision making;to motivate  sustainability   \n",
       "1                                  to motivate          design   \n",
       "\n",
       "          mentor_skills                                       session_freq  \\\n",
       "0  communication skills            once per week ( 15 - 30 minute session)   \n",
       "1  communication skills  instead of sessions i would prefer weekly e-ma...   \n",
       "\n",
       "  mentee_attribute mentee_desired_age mentee_desired_gender  mentor_age  \\\n",
       "0          empathy              17-21          not relevant          26   \n",
       "1        enthusiam       not relevant          not relevant          21   \n",
       "\n",
       "  mentor_gender  \n",
       "0          male  \n",
       "1          male  "
      ]
     },
     "execution_count": 6,
     "metadata": {},
     "output_type": "execute_result"
    }
   ],
   "source": [
    "df.head(2)"
   ]
  },
  {
   "cell_type": "code",
   "execution_count": 7,
   "metadata": {},
   "outputs": [],
   "source": [
    "# converting categorical variables into a common name among different datasets\n",
    "df.loc[df['mentor_skills'].str.contains('expertise'), 'mentor_skills'] = 'career know-how'\n",
    "df.loc[df['mentor_career'].str.contains('resources'), 'mentor_career'] = 'psychology/rrhh'"
   ]
  },
  {
   "cell_type": "code",
   "execution_count": 8,
   "metadata": {},
   "outputs": [
    {
     "data": {
      "text/html": [
       "<div>\n",
       "<style scoped>\n",
       "    .dataframe tbody tr th:only-of-type {\n",
       "        vertical-align: middle;\n",
       "    }\n",
       "\n",
       "    .dataframe tbody tr th {\n",
       "        vertical-align: top;\n",
       "    }\n",
       "\n",
       "    .dataframe thead th {\n",
       "        text-align: right;\n",
       "    }\n",
       "</style>\n",
       "<table border=\"1\" class=\"dataframe\">\n",
       "  <thead>\n",
       "    <tr style=\"text-align: right;\">\n",
       "      <th></th>\n",
       "      <th>Timestamp</th>\n",
       "      <th>intelligence_type</th>\n",
       "      <th>mentor_role</th>\n",
       "      <th>mentor_career</th>\n",
       "      <th>mentor_skills</th>\n",
       "      <th>session_freq</th>\n",
       "      <th>mentee_attribute</th>\n",
       "      <th>mentee_desired_age</th>\n",
       "      <th>mentee_desired_gender</th>\n",
       "      <th>mentor_age</th>\n",
       "      <th>mentor_gender</th>\n",
       "    </tr>\n",
       "  </thead>\n",
       "  <tbody>\n",
       "    <tr>\n",
       "      <th>0</th>\n",
       "      <td>2021/06/21 8:43:06 pm eet</td>\n",
       "      <td>musical;existential;interpersonal</td>\n",
       "      <td>to support with decision making;to motivate</td>\n",
       "      <td>sustainability</td>\n",
       "      <td>communication skills</td>\n",
       "      <td>once per week ( 15 - 30 minute session)</td>\n",
       "      <td>empathy</td>\n",
       "      <td>17-21</td>\n",
       "      <td>not relevant</td>\n",
       "      <td>26</td>\n",
       "      <td>male</td>\n",
       "    </tr>\n",
       "    <tr>\n",
       "      <th>1</th>\n",
       "      <td>2021/06/24 11:09:38 am eet</td>\n",
       "      <td>interpersonal</td>\n",
       "      <td>to motivate</td>\n",
       "      <td>design</td>\n",
       "      <td>communication skills</td>\n",
       "      <td>instead of sessions i would prefer weekly e-ma...</td>\n",
       "      <td>enthusiam</td>\n",
       "      <td>not relevant</td>\n",
       "      <td>not relevant</td>\n",
       "      <td>21</td>\n",
       "      <td>male</td>\n",
       "    </tr>\n",
       "  </tbody>\n",
       "</table>\n",
       "</div>"
      ],
      "text/plain": [
       "                    Timestamp                  intelligence_type  \\\n",
       "0   2021/06/21 8:43:06 pm eet  musical;existential;interpersonal   \n",
       "1  2021/06/24 11:09:38 am eet                      interpersonal   \n",
       "\n",
       "                                   mentor_role   mentor_career  \\\n",
       "0  to support with decision making;to motivate  sustainability   \n",
       "1                                  to motivate          design   \n",
       "\n",
       "          mentor_skills                                       session_freq  \\\n",
       "0  communication skills            once per week ( 15 - 30 minute session)   \n",
       "1  communication skills  instead of sessions i would prefer weekly e-ma...   \n",
       "\n",
       "  mentee_attribute mentee_desired_age mentee_desired_gender  mentor_age  \\\n",
       "0          empathy              17-21          not relevant          26   \n",
       "1        enthusiam       not relevant          not relevant          21   \n",
       "\n",
       "  mentor_gender  \n",
       "0          male  \n",
       "1          male  "
      ]
     },
     "execution_count": 8,
     "metadata": {},
     "output_type": "execute_result"
    }
   ],
   "source": [
    "df.head(2)"
   ]
  },
  {
   "cell_type": "markdown",
   "metadata": {},
   "source": [
    "# 5 Data cleaning Intelligence Types - converting the values into a list and separate each input by columns ( users were allowed to give up to three inputs for intelligence types)"
   ]
  },
  {
   "cell_type": "code",
   "execution_count": 9,
   "metadata": {},
   "outputs": [],
   "source": [
    "df_separate = df['intelligence_type'].str.split(';', expand=True)"
   ]
  },
  {
   "cell_type": "code",
   "execution_count": 10,
   "metadata": {},
   "outputs": [
    {
     "data": {
      "text/html": [
       "<div>\n",
       "<style scoped>\n",
       "    .dataframe tbody tr th:only-of-type {\n",
       "        vertical-align: middle;\n",
       "    }\n",
       "\n",
       "    .dataframe tbody tr th {\n",
       "        vertical-align: top;\n",
       "    }\n",
       "\n",
       "    .dataframe thead th {\n",
       "        text-align: right;\n",
       "    }\n",
       "</style>\n",
       "<table border=\"1\" class=\"dataframe\">\n",
       "  <thead>\n",
       "    <tr style=\"text-align: right;\">\n",
       "      <th></th>\n",
       "      <th>0</th>\n",
       "      <th>1</th>\n",
       "      <th>2</th>\n",
       "    </tr>\n",
       "  </thead>\n",
       "  <tbody>\n",
       "    <tr>\n",
       "      <th>0</th>\n",
       "      <td>musical</td>\n",
       "      <td>existential</td>\n",
       "      <td>interpersonal</td>\n",
       "    </tr>\n",
       "    <tr>\n",
       "      <th>1</th>\n",
       "      <td>interpersonal</td>\n",
       "      <td>0</td>\n",
       "      <td>0</td>\n",
       "    </tr>\n",
       "    <tr>\n",
       "      <th>2</th>\n",
       "      <td>interpersonal</td>\n",
       "      <td>linguistic</td>\n",
       "      <td>0</td>\n",
       "    </tr>\n",
       "    <tr>\n",
       "      <th>3</th>\n",
       "      <td>mathematical</td>\n",
       "      <td>corporal</td>\n",
       "      <td>0</td>\n",
       "    </tr>\n",
       "    <tr>\n",
       "      <th>4</th>\n",
       "      <td>existential</td>\n",
       "      <td>interpersonal</td>\n",
       "      <td>corporal</td>\n",
       "    </tr>\n",
       "    <tr>\n",
       "      <th>5</th>\n",
       "      <td>natural</td>\n",
       "      <td>corporal</td>\n",
       "      <td>linguistic</td>\n",
       "    </tr>\n",
       "    <tr>\n",
       "      <th>6</th>\n",
       "      <td>musical</td>\n",
       "      <td>interpersonal</td>\n",
       "      <td>corporal</td>\n",
       "    </tr>\n",
       "    <tr>\n",
       "      <th>7</th>\n",
       "      <td>interpersonal</td>\n",
       "      <td>intrapersonal</td>\n",
       "      <td>0</td>\n",
       "    </tr>\n",
       "    <tr>\n",
       "      <th>8</th>\n",
       "      <td>musical</td>\n",
       "      <td>interpersonal</td>\n",
       "      <td>corporal</td>\n",
       "    </tr>\n",
       "    <tr>\n",
       "      <th>9</th>\n",
       "      <td>mathematical</td>\n",
       "      <td>interpersonal</td>\n",
       "      <td>0</td>\n",
       "    </tr>\n",
       "    <tr>\n",
       "      <th>10</th>\n",
       "      <td>existential</td>\n",
       "      <td>0</td>\n",
       "      <td>0</td>\n",
       "    </tr>\n",
       "    <tr>\n",
       "      <th>11</th>\n",
       "      <td>natural</td>\n",
       "      <td>musical</td>\n",
       "      <td>0</td>\n",
       "    </tr>\n",
       "    <tr>\n",
       "      <th>12</th>\n",
       "      <td>linguistic</td>\n",
       "      <td>0</td>\n",
       "      <td>0</td>\n",
       "    </tr>\n",
       "    <tr>\n",
       "      <th>13</th>\n",
       "      <td>mathematical</td>\n",
       "      <td>existential</td>\n",
       "      <td>0</td>\n",
       "    </tr>\n",
       "    <tr>\n",
       "      <th>14</th>\n",
       "      <td>mathematical</td>\n",
       "      <td>interpersonal</td>\n",
       "      <td>0</td>\n",
       "    </tr>\n",
       "    <tr>\n",
       "      <th>15</th>\n",
       "      <td>existential</td>\n",
       "      <td>intrapersonal</td>\n",
       "      <td>0</td>\n",
       "    </tr>\n",
       "  </tbody>\n",
       "</table>\n",
       "</div>"
      ],
      "text/plain": [
       "                0              1              2\n",
       "0         musical    existential  interpersonal\n",
       "1   interpersonal              0              0\n",
       "2   interpersonal     linguistic              0\n",
       "3    mathematical       corporal              0\n",
       "4     existential  interpersonal       corporal\n",
       "5         natural       corporal     linguistic\n",
       "6         musical  interpersonal       corporal\n",
       "7   interpersonal  intrapersonal              0\n",
       "8         musical  interpersonal       corporal\n",
       "9    mathematical  interpersonal              0\n",
       "10    existential              0              0\n",
       "11        natural        musical              0\n",
       "12     linguistic              0              0\n",
       "13   mathematical    existential              0\n",
       "14   mathematical  interpersonal              0\n",
       "15    existential  intrapersonal              0"
      ]
     },
     "execution_count": 10,
     "metadata": {},
     "output_type": "execute_result"
    }
   ],
   "source": [
    "#managing missing values filling with 0 for avoiding errors in system\n",
    "df_separate.fillna(0) "
   ]
  },
  {
   "cell_type": "code",
   "execution_count": 11,
   "metadata": {},
   "outputs": [
    {
     "data": {
      "text/html": [
       "<div>\n",
       "<style scoped>\n",
       "    .dataframe tbody tr th:only-of-type {\n",
       "        vertical-align: middle;\n",
       "    }\n",
       "\n",
       "    .dataframe tbody tr th {\n",
       "        vertical-align: top;\n",
       "    }\n",
       "\n",
       "    .dataframe thead th {\n",
       "        text-align: right;\n",
       "    }\n",
       "</style>\n",
       "<table border=\"1\" class=\"dataframe\">\n",
       "  <thead>\n",
       "    <tr style=\"text-align: right;\">\n",
       "      <th></th>\n",
       "      <th>0</th>\n",
       "      <th>1</th>\n",
       "      <th>2</th>\n",
       "    </tr>\n",
       "  </thead>\n",
       "  <tbody>\n",
       "    <tr>\n",
       "      <th>0</th>\n",
       "      <td>musical</td>\n",
       "      <td>existential</td>\n",
       "      <td>interpersonal</td>\n",
       "    </tr>\n",
       "  </tbody>\n",
       "</table>\n",
       "</div>"
      ],
      "text/plain": [
       "         0            1              2\n",
       "0  musical  existential  interpersonal"
      ]
     },
     "execution_count": 11,
     "metadata": {},
     "output_type": "execute_result"
    }
   ],
   "source": [
    "df_separate.head(1)"
   ]
  },
  {
   "cell_type": "code",
   "execution_count": 12,
   "metadata": {},
   "outputs": [],
   "source": [
    "#renaming columns for having integrity of data across all datasets and carrying on data cleaning"
   ]
  },
  {
   "cell_type": "code",
   "execution_count": 13,
   "metadata": {},
   "outputs": [],
   "source": [
    "df_separate.rename(columns={0: \"itype1\", 1: \"itype2\", 2: 'itype3'}, inplace=True)"
   ]
  },
  {
   "cell_type": "code",
   "execution_count": 14,
   "metadata": {},
   "outputs": [
    {
     "data": {
      "text/html": [
       "<div>\n",
       "<style scoped>\n",
       "    .dataframe tbody tr th:only-of-type {\n",
       "        vertical-align: middle;\n",
       "    }\n",
       "\n",
       "    .dataframe tbody tr th {\n",
       "        vertical-align: top;\n",
       "    }\n",
       "\n",
       "    .dataframe thead th {\n",
       "        text-align: right;\n",
       "    }\n",
       "</style>\n",
       "<table border=\"1\" class=\"dataframe\">\n",
       "  <thead>\n",
       "    <tr style=\"text-align: right;\">\n",
       "      <th></th>\n",
       "      <th>itype1</th>\n",
       "      <th>itype2</th>\n",
       "      <th>itype3</th>\n",
       "    </tr>\n",
       "  </thead>\n",
       "  <tbody>\n",
       "    <tr>\n",
       "      <th>0</th>\n",
       "      <td>musical</td>\n",
       "      <td>existential</td>\n",
       "      <td>interpersonal</td>\n",
       "    </tr>\n",
       "    <tr>\n",
       "      <th>1</th>\n",
       "      <td>interpersonal</td>\n",
       "      <td>None</td>\n",
       "      <td>None</td>\n",
       "    </tr>\n",
       "  </tbody>\n",
       "</table>\n",
       "</div>"
      ],
      "text/plain": [
       "          itype1       itype2         itype3\n",
       "0        musical  existential  interpersonal\n",
       "1  interpersonal         None           None"
      ]
     },
     "execution_count": 14,
     "metadata": {},
     "output_type": "execute_result"
    }
   ],
   "source": [
    "df_separate.head(2)"
   ]
  },
  {
   "cell_type": "code",
   "execution_count": null,
   "metadata": {},
   "outputs": [],
   "source": []
  },
  {
   "cell_type": "code",
   "execution_count": 15,
   "metadata": {},
   "outputs": [],
   "source": [
    "# this is the new dataframe for intelligence types which will be concatenated to the main one\n",
    "df1 = pd.concat([df, df_separate], axis=1)"
   ]
  },
  {
   "cell_type": "code",
   "execution_count": 16,
   "metadata": {},
   "outputs": [],
   "source": [
    "# now we can drop columns that are not needed (timestamp, and also intelligence_type as now we have 3 columns itype1,2,3)\n",
    "df1.drop(['Timestamp', 'intelligence_type'], axis=1, inplace=True)"
   ]
  },
  {
   "cell_type": "code",
   "execution_count": 17,
   "metadata": {},
   "outputs": [
    {
     "data": {
      "text/html": [
       "<div>\n",
       "<style scoped>\n",
       "    .dataframe tbody tr th:only-of-type {\n",
       "        vertical-align: middle;\n",
       "    }\n",
       "\n",
       "    .dataframe tbody tr th {\n",
       "        vertical-align: top;\n",
       "    }\n",
       "\n",
       "    .dataframe thead th {\n",
       "        text-align: right;\n",
       "    }\n",
       "</style>\n",
       "<table border=\"1\" class=\"dataframe\">\n",
       "  <thead>\n",
       "    <tr style=\"text-align: right;\">\n",
       "      <th></th>\n",
       "      <th>mentor_role</th>\n",
       "      <th>mentor_career</th>\n",
       "      <th>mentor_skills</th>\n",
       "      <th>session_freq</th>\n",
       "      <th>mentee_attribute</th>\n",
       "      <th>mentee_desired_age</th>\n",
       "      <th>mentee_desired_gender</th>\n",
       "      <th>mentor_age</th>\n",
       "      <th>mentor_gender</th>\n",
       "      <th>itype1</th>\n",
       "      <th>itype2</th>\n",
       "      <th>itype3</th>\n",
       "    </tr>\n",
       "  </thead>\n",
       "  <tbody>\n",
       "    <tr>\n",
       "      <th>0</th>\n",
       "      <td>to support with decision making;to motivate</td>\n",
       "      <td>sustainability</td>\n",
       "      <td>communication skills</td>\n",
       "      <td>once per week ( 15 - 30 minute session)</td>\n",
       "      <td>empathy</td>\n",
       "      <td>17-21</td>\n",
       "      <td>not relevant</td>\n",
       "      <td>26</td>\n",
       "      <td>male</td>\n",
       "      <td>musical</td>\n",
       "      <td>existential</td>\n",
       "      <td>interpersonal</td>\n",
       "    </tr>\n",
       "  </tbody>\n",
       "</table>\n",
       "</div>"
      ],
      "text/plain": [
       "                                   mentor_role   mentor_career  \\\n",
       "0  to support with decision making;to motivate  sustainability   \n",
       "\n",
       "          mentor_skills                             session_freq  \\\n",
       "0  communication skills  once per week ( 15 - 30 minute session)   \n",
       "\n",
       "  mentee_attribute mentee_desired_age mentee_desired_gender  mentor_age  \\\n",
       "0          empathy              17-21          not relevant          26   \n",
       "\n",
       "  mentor_gender   itype1       itype2         itype3  \n",
       "0          male  musical  existential  interpersonal  "
      ]
     },
     "execution_count": 17,
     "metadata": {},
     "output_type": "execute_result"
    }
   ],
   "source": [
    "df1.head(1)"
   ]
  },
  {
   "cell_type": "markdown",
   "metadata": {},
   "source": [
    "#same data cleaning process as for intelligence types will be done  for the column \"mentor_rol\" as users were able to give up to two priorities "
   ]
  },
  {
   "cell_type": "code",
   "execution_count": 18,
   "metadata": {},
   "outputs": [
    {
     "data": {
      "text/html": [
       "<div>\n",
       "<style scoped>\n",
       "    .dataframe tbody tr th:only-of-type {\n",
       "        vertical-align: middle;\n",
       "    }\n",
       "\n",
       "    .dataframe tbody tr th {\n",
       "        vertical-align: top;\n",
       "    }\n",
       "\n",
       "    .dataframe thead th {\n",
       "        text-align: right;\n",
       "    }\n",
       "</style>\n",
       "<table border=\"1\" class=\"dataframe\">\n",
       "  <thead>\n",
       "    <tr style=\"text-align: right;\">\n",
       "      <th></th>\n",
       "      <th>0</th>\n",
       "      <th>1</th>\n",
       "    </tr>\n",
       "  </thead>\n",
       "  <tbody>\n",
       "    <tr>\n",
       "      <th>0</th>\n",
       "      <td>to support with decision making</td>\n",
       "      <td>to motivate</td>\n",
       "    </tr>\n",
       "    <tr>\n",
       "      <th>1</th>\n",
       "      <td>to motivate</td>\n",
       "      <td>None</td>\n",
       "    </tr>\n",
       "    <tr>\n",
       "      <th>2</th>\n",
       "      <td>to offer guidance</td>\n",
       "      <td>to motivate</td>\n",
       "    </tr>\n",
       "    <tr>\n",
       "      <th>3</th>\n",
       "      <td>to motivate</td>\n",
       "      <td>to help to solve problems</td>\n",
       "    </tr>\n",
       "    <tr>\n",
       "      <th>4</th>\n",
       "      <td>to support with decision making</td>\n",
       "      <td>to help to solve problems</td>\n",
       "    </tr>\n",
       "    <tr>\n",
       "      <th>5</th>\n",
       "      <td>to offer guidance</td>\n",
       "      <td>to be accessible to answer questions</td>\n",
       "    </tr>\n",
       "    <tr>\n",
       "      <th>6</th>\n",
       "      <td>to support with decision making</td>\n",
       "      <td>to motivate</td>\n",
       "    </tr>\n",
       "    <tr>\n",
       "      <th>7</th>\n",
       "      <td>to motivate</td>\n",
       "      <td>to help to solve problems</td>\n",
       "    </tr>\n",
       "    <tr>\n",
       "      <th>8</th>\n",
       "      <td>to support with decision making</td>\n",
       "      <td>to motivate</td>\n",
       "    </tr>\n",
       "    <tr>\n",
       "      <th>9</th>\n",
       "      <td>to offer guidance</td>\n",
       "      <td>None</td>\n",
       "    </tr>\n",
       "    <tr>\n",
       "      <th>10</th>\n",
       "      <td>to offer guidance</td>\n",
       "      <td>None</td>\n",
       "    </tr>\n",
       "    <tr>\n",
       "      <th>11</th>\n",
       "      <td>to offer guidance</td>\n",
       "      <td>None</td>\n",
       "    </tr>\n",
       "    <tr>\n",
       "      <th>12</th>\n",
       "      <td>to motivate</td>\n",
       "      <td>to be accessible to answer questions</td>\n",
       "    </tr>\n",
       "    <tr>\n",
       "      <th>13</th>\n",
       "      <td>to help to solve problems</td>\n",
       "      <td>None</td>\n",
       "    </tr>\n",
       "    <tr>\n",
       "      <th>14</th>\n",
       "      <td>to help to solve problems</td>\n",
       "      <td>None</td>\n",
       "    </tr>\n",
       "    <tr>\n",
       "      <th>15</th>\n",
       "      <td>to be accessible to answer questions</td>\n",
       "      <td>None</td>\n",
       "    </tr>\n",
       "  </tbody>\n",
       "</table>\n",
       "</div>"
      ],
      "text/plain": [
       "                                       0                                     1\n",
       "0        to support with decision making                           to motivate\n",
       "1                            to motivate                                  None\n",
       "2                      to offer guidance                           to motivate\n",
       "3                            to motivate             to help to solve problems\n",
       "4        to support with decision making             to help to solve problems\n",
       "5                      to offer guidance  to be accessible to answer questions\n",
       "6        to support with decision making                           to motivate\n",
       "7                            to motivate             to help to solve problems\n",
       "8        to support with decision making                           to motivate\n",
       "9                      to offer guidance                                  None\n",
       "10                     to offer guidance                                  None\n",
       "11                     to offer guidance                                  None\n",
       "12                           to motivate  to be accessible to answer questions\n",
       "13             to help to solve problems                                  None\n",
       "14             to help to solve problems                                  None\n",
       "15  to be accessible to answer questions                                  None"
      ]
     },
     "execution_count": 18,
     "metadata": {},
     "output_type": "execute_result"
    }
   ],
   "source": [
    "df_role = df1['mentor_role'].str.split(';', expand=True)\n",
    "df_role"
   ]
  },
  {
   "cell_type": "markdown",
   "metadata": {},
   "source": [
    "# here the name itype was considered indiscriminately, despite the fact it is not an intelligence type variable. \n",
    "# this will be however modified afterwards"
   ]
  },
  {
   "cell_type": "code",
   "execution_count": 19,
   "metadata": {},
   "outputs": [
    {
     "data": {
      "text/html": [
       "<div>\n",
       "<style scoped>\n",
       "    .dataframe tbody tr th:only-of-type {\n",
       "        vertical-align: middle;\n",
       "    }\n",
       "\n",
       "    .dataframe tbody tr th {\n",
       "        vertical-align: top;\n",
       "    }\n",
       "\n",
       "    .dataframe thead th {\n",
       "        text-align: right;\n",
       "    }\n",
       "</style>\n",
       "<table border=\"1\" class=\"dataframe\">\n",
       "  <thead>\n",
       "    <tr style=\"text-align: right;\">\n",
       "      <th></th>\n",
       "      <th>itype4</th>\n",
       "      <th>itype5</th>\n",
       "    </tr>\n",
       "  </thead>\n",
       "  <tbody>\n",
       "    <tr>\n",
       "      <th>0</th>\n",
       "      <td>to support with decision making</td>\n",
       "      <td>to motivate</td>\n",
       "    </tr>\n",
       "    <tr>\n",
       "      <th>1</th>\n",
       "      <td>to motivate</td>\n",
       "      <td>0</td>\n",
       "    </tr>\n",
       "    <tr>\n",
       "      <th>2</th>\n",
       "      <td>to offer guidance</td>\n",
       "      <td>to motivate</td>\n",
       "    </tr>\n",
       "    <tr>\n",
       "      <th>3</th>\n",
       "      <td>to motivate</td>\n",
       "      <td>to help to solve problems</td>\n",
       "    </tr>\n",
       "    <tr>\n",
       "      <th>4</th>\n",
       "      <td>to support with decision making</td>\n",
       "      <td>to help to solve problems</td>\n",
       "    </tr>\n",
       "    <tr>\n",
       "      <th>5</th>\n",
       "      <td>to offer guidance</td>\n",
       "      <td>to be accessible to answer questions</td>\n",
       "    </tr>\n",
       "    <tr>\n",
       "      <th>6</th>\n",
       "      <td>to support with decision making</td>\n",
       "      <td>to motivate</td>\n",
       "    </tr>\n",
       "    <tr>\n",
       "      <th>7</th>\n",
       "      <td>to motivate</td>\n",
       "      <td>to help to solve problems</td>\n",
       "    </tr>\n",
       "    <tr>\n",
       "      <th>8</th>\n",
       "      <td>to support with decision making</td>\n",
       "      <td>to motivate</td>\n",
       "    </tr>\n",
       "    <tr>\n",
       "      <th>9</th>\n",
       "      <td>to offer guidance</td>\n",
       "      <td>0</td>\n",
       "    </tr>\n",
       "    <tr>\n",
       "      <th>10</th>\n",
       "      <td>to offer guidance</td>\n",
       "      <td>0</td>\n",
       "    </tr>\n",
       "    <tr>\n",
       "      <th>11</th>\n",
       "      <td>to offer guidance</td>\n",
       "      <td>0</td>\n",
       "    </tr>\n",
       "    <tr>\n",
       "      <th>12</th>\n",
       "      <td>to motivate</td>\n",
       "      <td>to be accessible to answer questions</td>\n",
       "    </tr>\n",
       "    <tr>\n",
       "      <th>13</th>\n",
       "      <td>to help to solve problems</td>\n",
       "      <td>0</td>\n",
       "    </tr>\n",
       "    <tr>\n",
       "      <th>14</th>\n",
       "      <td>to help to solve problems</td>\n",
       "      <td>0</td>\n",
       "    </tr>\n",
       "    <tr>\n",
       "      <th>15</th>\n",
       "      <td>to be accessible to answer questions</td>\n",
       "      <td>0</td>\n",
       "    </tr>\n",
       "  </tbody>\n",
       "</table>\n",
       "</div>"
      ],
      "text/plain": [
       "                                  itype4                                itype5\n",
       "0        to support with decision making                           to motivate\n",
       "1                            to motivate                                     0\n",
       "2                      to offer guidance                           to motivate\n",
       "3                            to motivate             to help to solve problems\n",
       "4        to support with decision making             to help to solve problems\n",
       "5                      to offer guidance  to be accessible to answer questions\n",
       "6        to support with decision making                           to motivate\n",
       "7                            to motivate             to help to solve problems\n",
       "8        to support with decision making                           to motivate\n",
       "9                      to offer guidance                                     0\n",
       "10                     to offer guidance                                     0\n",
       "11                     to offer guidance                                     0\n",
       "12                           to motivate  to be accessible to answer questions\n",
       "13             to help to solve problems                                     0\n",
       "14             to help to solve problems                                     0\n",
       "15  to be accessible to answer questions                                     0"
      ]
     },
     "execution_count": 19,
     "metadata": {},
     "output_type": "execute_result"
    }
   ],
   "source": [
    "df_role.rename(columns={0: \"itype4\", 1: \"itype5\"}, inplace=True)\n",
    "df_role.fillna(0)"
   ]
  },
  {
   "cell_type": "markdown",
   "metadata": {},
   "source": [
    "# Now we handle the data of mentor_role with string contains as a more efficient way of handling data and changing the names into an uniform variable name by each column by that will be assigned to all the variables in english from the 4 datasets"
   ]
  },
  {
   "cell_type": "code",
   "execution_count": 20,
   "metadata": {},
   "outputs": [],
   "source": [
    "df_role.loc[df_role['itype4'].str.contains('solve') ==True, 'itype4'] = 'solve_problems'\n",
    "df_role.loc[df_role['itype5'].str.contains('solve') ==True, 'itype5'] = 'solve_problems'\n",
    "df_role.loc[df_role['itype4'].str.contains('support') ==True, 'itype4'] = 'support'\n",
    "df_role.loc[df_role['itype5'].str.contains('support') ==True, 'itype5'] = 'support'\n",
    "df_role.loc[df_role['itype4'].str.contains('accessible') ==True, 'itype4'] = 'availability'\n",
    "df_role.loc[df_role['itype5'].str.contains('accessible') ==True, 'itype5'] = 'availability'\n",
    "df_role.loc[df_role['itype4'].str.contains('guidance') ==True, 'itype4'] = 'guidance'\n",
    "df_role.loc[df_role['itype5'].str.contains('guidance') ==True, 'itype5'] = 'guidance'\n",
    "df_role.loc[df_role['itype4'].str.contains('motivate') ==True, 'itype4'] = 'motivate'\n",
    "df_role.loc[df_role['itype5'].str.contains('motivate') ==True, 'itype5'] = 'motivate'\n"
   ]
  },
  {
   "cell_type": "code",
   "execution_count": 21,
   "metadata": {},
   "outputs": [
    {
     "data": {
      "text/html": [
       "<div>\n",
       "<style scoped>\n",
       "    .dataframe tbody tr th:only-of-type {\n",
       "        vertical-align: middle;\n",
       "    }\n",
       "\n",
       "    .dataframe tbody tr th {\n",
       "        vertical-align: top;\n",
       "    }\n",
       "\n",
       "    .dataframe thead th {\n",
       "        text-align: right;\n",
       "    }\n",
       "</style>\n",
       "<table border=\"1\" class=\"dataframe\">\n",
       "  <thead>\n",
       "    <tr style=\"text-align: right;\">\n",
       "      <th></th>\n",
       "      <th>itype4</th>\n",
       "      <th>itype5</th>\n",
       "    </tr>\n",
       "  </thead>\n",
       "  <tbody>\n",
       "    <tr>\n",
       "      <th>0</th>\n",
       "      <td>support</td>\n",
       "      <td>motivate</td>\n",
       "    </tr>\n",
       "    <tr>\n",
       "      <th>1</th>\n",
       "      <td>motivate</td>\n",
       "      <td>None</td>\n",
       "    </tr>\n",
       "  </tbody>\n",
       "</table>\n",
       "</div>"
      ],
      "text/plain": [
       "     itype4    itype5\n",
       "0   support  motivate\n",
       "1  motivate      None"
      ]
     },
     "execution_count": 21,
     "metadata": {},
     "output_type": "execute_result"
    }
   ],
   "source": [
    "# this is how the dataset looks like now, and this will be concatenated to the other dataframe\n",
    "df_role.head(2)"
   ]
  },
  {
   "cell_type": "markdown",
   "metadata": {},
   "source": [
    "# concatenating mentor_role dataset to general data_set having a final one with variables in english and spanish."
   ]
  },
  {
   "cell_type": "code",
   "execution_count": 22,
   "metadata": {},
   "outputs": [],
   "source": [
    "df_final = pd.concat([df1, df_role], axis=1)\n",
    "df_final.drop(['mentor_role'], axis=1, inplace=True)"
   ]
  },
  {
   "cell_type": "code",
   "execution_count": 23,
   "metadata": {},
   "outputs": [
    {
     "data": {
      "text/html": [
       "<div>\n",
       "<style scoped>\n",
       "    .dataframe tbody tr th:only-of-type {\n",
       "        vertical-align: middle;\n",
       "    }\n",
       "\n",
       "    .dataframe tbody tr th {\n",
       "        vertical-align: top;\n",
       "    }\n",
       "\n",
       "    .dataframe thead th {\n",
       "        text-align: right;\n",
       "    }\n",
       "</style>\n",
       "<table border=\"1\" class=\"dataframe\">\n",
       "  <thead>\n",
       "    <tr style=\"text-align: right;\">\n",
       "      <th></th>\n",
       "      <th>mentor_career</th>\n",
       "      <th>mentor_skills</th>\n",
       "      <th>session_freq</th>\n",
       "      <th>mentee_attribute</th>\n",
       "      <th>mentee_desired_age</th>\n",
       "      <th>mentee_desired_gender</th>\n",
       "      <th>mentor_age</th>\n",
       "      <th>mentor_gender</th>\n",
       "      <th>itype1</th>\n",
       "      <th>itype2</th>\n",
       "      <th>itype3</th>\n",
       "      <th>itype4</th>\n",
       "      <th>itype5</th>\n",
       "    </tr>\n",
       "  </thead>\n",
       "  <tbody>\n",
       "    <tr>\n",
       "      <th>0</th>\n",
       "      <td>sustainability</td>\n",
       "      <td>communication skills</td>\n",
       "      <td>once per week ( 15 - 30 minute session)</td>\n",
       "      <td>empathy</td>\n",
       "      <td>17-21</td>\n",
       "      <td>not relevant</td>\n",
       "      <td>26</td>\n",
       "      <td>male</td>\n",
       "      <td>musical</td>\n",
       "      <td>existential</td>\n",
       "      <td>interpersonal</td>\n",
       "      <td>support</td>\n",
       "      <td>motivate</td>\n",
       "    </tr>\n",
       "    <tr>\n",
       "      <th>1</th>\n",
       "      <td>design</td>\n",
       "      <td>communication skills</td>\n",
       "      <td>instead of sessions i would prefer weekly e-ma...</td>\n",
       "      <td>enthusiam</td>\n",
       "      <td>not relevant</td>\n",
       "      <td>not relevant</td>\n",
       "      <td>21</td>\n",
       "      <td>male</td>\n",
       "      <td>interpersonal</td>\n",
       "      <td>None</td>\n",
       "      <td>None</td>\n",
       "      <td>motivate</td>\n",
       "      <td>None</td>\n",
       "    </tr>\n",
       "  </tbody>\n",
       "</table>\n",
       "</div>"
      ],
      "text/plain": [
       "    mentor_career         mentor_skills  \\\n",
       "0  sustainability  communication skills   \n",
       "1          design  communication skills   \n",
       "\n",
       "                                        session_freq mentee_attribute  \\\n",
       "0            once per week ( 15 - 30 minute session)          empathy   \n",
       "1  instead of sessions i would prefer weekly e-ma...        enthusiam   \n",
       "\n",
       "  mentee_desired_age mentee_desired_gender  mentor_age mentor_gender  \\\n",
       "0              17-21          not relevant          26          male   \n",
       "1       not relevant          not relevant          21          male   \n",
       "\n",
       "          itype1       itype2         itype3    itype4    itype5  \n",
       "0        musical  existential  interpersonal   support  motivate  \n",
       "1  interpersonal         None           None  motivate      None  "
      ]
     },
     "execution_count": 23,
     "metadata": {},
     "output_type": "execute_result"
    }
   ],
   "source": [
    "df_final.head(2)"
   ]
  },
  {
   "cell_type": "code",
   "execution_count": 24,
   "metadata": {},
   "outputs": [
    {
     "name": "stdout",
     "output_type": "stream",
     "text": [
      "<class 'pandas.core.frame.DataFrame'>\n",
      "RangeIndex: 16 entries, 0 to 15\n",
      "Data columns (total 13 columns):\n",
      " #   Column                 Non-Null Count  Dtype \n",
      "---  ------                 --------------  ----- \n",
      " 0   mentor_career          16 non-null     object\n",
      " 1   mentor_skills          16 non-null     object\n",
      " 2   session_freq           16 non-null     object\n",
      " 3   mentee_attribute       16 non-null     object\n",
      " 4   mentee_desired_age     16 non-null     object\n",
      " 5   mentee_desired_gender  16 non-null     object\n",
      " 6   mentor_age             16 non-null     int64 \n",
      " 7   mentor_gender          16 non-null     object\n",
      " 8   itype1                 16 non-null     object\n",
      " 9   itype2                 13 non-null     object\n",
      " 10  itype3                 5 non-null      object\n",
      " 11  mentor_rol_1           16 non-null     object\n",
      " 12  mentor_rol_2           9 non-null      object\n",
      "dtypes: int64(1), object(12)\n",
      "memory usage: 1.8+ KB\n"
     ]
    }
   ],
   "source": [
    "#rename columns\n",
    "df_final.rename(columns={\"itype4\": \"mentor_rol_1\", \"itype5\": \"mentor_rol_2\"}, inplace=True)\n",
    "df_final.loc[df_final['mentor_career'].str.contains('technology'), 'mentor_career'] = 'it'\n",
    "df_final.info()"
   ]
  },
  {
   "cell_type": "code",
   "execution_count": 25,
   "metadata": {},
   "outputs": [],
   "source": [
    "# QUICK ROUND OF CHECKING ALL VALUES BEFORE EXPORTING DATASET TO BE JOINED TO ADDITIONAL 2 others"
   ]
  },
  {
   "cell_type": "code",
   "execution_count": 26,
   "metadata": {},
   "outputs": [
    {
     "data": {
      "text/plain": [
       "mathematical     4\n",
       "interpersonal    3\n",
       "existential      3\n",
       "musical          3\n",
       "natural          2\n",
       "linguistic       1\n",
       "Name: itype1, dtype: int64"
      ]
     },
     "execution_count": 26,
     "metadata": {},
     "output_type": "execute_result"
    }
   ],
   "source": [
    "df_final['itype1'].value_counts()"
   ]
  },
  {
   "cell_type": "code",
   "execution_count": 27,
   "metadata": {},
   "outputs": [
    {
     "data": {
      "text/plain": [
       "interpersonal    5\n",
       "existential      2\n",
       "corporal         2\n",
       "intrapersonal    2\n",
       "linguistic       1\n",
       "musical          1\n",
       "Name: itype2, dtype: int64"
      ]
     },
     "execution_count": 27,
     "metadata": {},
     "output_type": "execute_result"
    }
   ],
   "source": [
    "df_final['itype2'].value_counts()"
   ]
  },
  {
   "cell_type": "code",
   "execution_count": 28,
   "metadata": {},
   "outputs": [
    {
     "data": {
      "text/plain": [
       "corporal         3\n",
       "linguistic       1\n",
       "interpersonal    1\n",
       "Name: itype3, dtype: int64"
      ]
     },
     "execution_count": 28,
     "metadata": {},
     "output_type": "execute_result"
    }
   ],
   "source": [
    "df_final['itype3'].value_counts()"
   ]
  },
  {
   "cell_type": "code",
   "execution_count": 29,
   "metadata": {},
   "outputs": [
    {
     "data": {
      "text/plain": [
       "empathy           8\n",
       "enthusiam         5\n",
       "meticulousness    2\n",
       "modesty           1\n",
       "Name: mentee_attribute, dtype: int64"
      ]
     },
     "execution_count": 29,
     "metadata": {},
     "output_type": "execute_result"
    }
   ],
   "source": [
    "df_final['mentee_attribute'].value_counts()"
   ]
  },
  {
   "cell_type": "code",
   "execution_count": 30,
   "metadata": {},
   "outputs": [
    {
     "data": {
      "text/plain": [
       "design                           5\n",
       "sustainability                   3\n",
       "it                               2\n",
       "art                              1\n",
       "research                         1\n",
       "psychology/rrhh                  1\n",
       "music                            1\n",
       "marketing                        1\n",
       "innovation / entrepreneurship    1\n",
       "Name: mentor_career, dtype: int64"
      ]
     },
     "execution_count": 30,
     "metadata": {},
     "output_type": "execute_result"
    }
   ],
   "source": [
    "df_final['mentor_career'].value_counts()"
   ]
  },
  {
   "cell_type": "code",
   "execution_count": 31,
   "metadata": {},
   "outputs": [
    {
     "data": {
      "text/plain": [
       "communication skills    8\n",
       "career know-how         4\n",
       "writing skills          2\n",
       "it skills               1\n",
       "teaching skills         1\n",
       "Name: mentor_skills, dtype: int64"
      ]
     },
     "execution_count": 31,
     "metadata": {},
     "output_type": "execute_result"
    }
   ],
   "source": [
    "df_final['mentor_skills'].value_counts()"
   ]
  },
  {
   "cell_type": "code",
   "execution_count": 32,
   "metadata": {},
   "outputs": [
    {
     "data": {
      "text/plain": [
       "once per week ( 15 - 30 minute session)                           6\n",
       "twice per month ( 15 - 30 minute session)                         5\n",
       "once per month ( 30 - 60 minute session)                          3\n",
       "instead of sessions i would prefer weekly e-mail communication    2\n",
       "Name: session_freq, dtype: int64"
      ]
     },
     "execution_count": 32,
     "metadata": {},
     "output_type": "execute_result"
    }
   ],
   "source": [
    "df_final['session_freq'].value_counts()"
   ]
  },
  {
   "cell_type": "markdown",
   "metadata": {},
   "source": [
    "# all data looks according to the format, therefore it is possible to export it to the mentors_eu_cleaned.csv file which will be merged with the additional two data sets for creating the one that will be used for the python script."
   ]
  },
  {
   "cell_type": "code",
   "execution_count": 33,
   "metadata": {},
   "outputs": [],
   "source": [
    "df_final.to_csv('mentors_eu_cleaned.csv')"
   ]
  }
 ],
 "metadata": {
  "kernelspec": {
   "display_name": "Python 3",
   "language": "python",
   "name": "python3"
  },
  "language_info": {
   "codemirror_mode": {
    "name": "ipython",
    "version": 3
   },
   "file_extension": ".py",
   "mimetype": "text/x-python",
   "name": "python",
   "nbconvert_exporter": "python",
   "pygments_lexer": "ipython3",
   "version": "3.8.3"
  }
 },
 "nbformat": 4,
 "nbformat_minor": 4
}
