{
 "cells": [
  {
   "cell_type": "markdown",
   "metadata": {},
   "source": [
    "\n",
    "Raimundo Burchardt Student Number: 1779575 Master: Data-Driven-Design\n"
   ]
  },
  {
   "cell_type": "markdown",
   "metadata": {},
   "source": [
    "# USER TESTING SECOND ITERATION \n",
    "## Evalution of UX, UI and recommendation system\n"
   ]
  },
  {
   "cell_type": "code",
   "execution_count": 1,
   "metadata": {},
   "outputs": [],
   "source": [
    "import seaborn as sns\n",
    "import pandas as pd\n",
    "import matplotlib.pyplot as plt\n",
    "import seaborn as sns\n",
    "from scipy.stats.stats import pearsonr\n",
    "import plotly.express as px\n",
    "%matplotlib inline\n",
    "import plotly.graph_objects as go\n",
    "import numpy as np"
   ]
  },
  {
   "cell_type": "code",
   "execution_count": 2,
   "metadata": {},
   "outputs": [],
   "source": [
    "#import survey dataset link to survey: https://docs.google.com/forms/d/e/1FAIpQLSeCqjBjMpi3tJHYYcaW5lJmXXDW7s_5TdM_5wP5s9IqB8eSYQ/viewform"
   ]
  },
  {
   "cell_type": "code",
   "execution_count": 3,
   "metadata": {},
   "outputs": [],
   "source": [
    "df1 = pd.read_csv('user_test2.csv')"
   ]
  },
  {
   "cell_type": "markdown",
   "metadata": {},
   "source": [
    "## DATA CLEANING\n"
   ]
  },
  {
   "cell_type": "markdown",
   "metadata": {},
   "source": [
    "A first approach to Data Cleaning is to observe how the dataset looks like. For this we will preview the data with .head() and .info() to get general insights about the type of data we are working with and other aspects that might be relevant"
   ]
  },
  {
   "cell_type": "code",
   "execution_count": 4,
   "metadata": {},
   "outputs": [
    {
     "data": {
      "text/html": [
       "<div>\n",
       "<style scoped>\n",
       "    .dataframe tbody tr th:only-of-type {\n",
       "        vertical-align: middle;\n",
       "    }\n",
       "\n",
       "    .dataframe tbody tr th {\n",
       "        vertical-align: top;\n",
       "    }\n",
       "\n",
       "    .dataframe thead th {\n",
       "        text-align: right;\n",
       "    }\n",
       "</style>\n",
       "<table border=\"1\" class=\"dataframe\">\n",
       "  <thead>\n",
       "    <tr style=\"text-align: right;\">\n",
       "      <th></th>\n",
       "      <th>Timestamp</th>\n",
       "      <th>How relevant were the asked questions during the registration for generating the best possible mentor - mentee match?</th>\n",
       "      <th>How would you rate the flow of the interface? I.e. How easy was for you to accomplish each of the assigned tasks?</th>\n",
       "      <th>How accurate was the recommendation you received based on your given datapoints</th>\n",
       "      <th>How would you rate the User Interface as a whole?</th>\n",
       "      <th>How would you rate the proposed solution to help connect mentors and mentees across the globe?</th>\n",
       "    </tr>\n",
       "  </thead>\n",
       "  <tbody>\n",
       "    <tr>\n",
       "      <th>0</th>\n",
       "      <td>2021/08/11 4:42:09 pm EET</td>\n",
       "      <td>4</td>\n",
       "      <td>5</td>\n",
       "      <td>4</td>\n",
       "      <td>4</td>\n",
       "      <td>4</td>\n",
       "    </tr>\n",
       "    <tr>\n",
       "      <th>1</th>\n",
       "      <td>2021/08/11 5:50:00 pm EET</td>\n",
       "      <td>5</td>\n",
       "      <td>5</td>\n",
       "      <td>3</td>\n",
       "      <td>4</td>\n",
       "      <td>4</td>\n",
       "    </tr>\n",
       "    <tr>\n",
       "      <th>2</th>\n",
       "      <td>2021/08/12 1:15:20 pm EET</td>\n",
       "      <td>4</td>\n",
       "      <td>5</td>\n",
       "      <td>5</td>\n",
       "      <td>4</td>\n",
       "      <td>4</td>\n",
       "    </tr>\n",
       "    <tr>\n",
       "      <th>3</th>\n",
       "      <td>2021/08/12 3:22:31 pm EET</td>\n",
       "      <td>5</td>\n",
       "      <td>5</td>\n",
       "      <td>3</td>\n",
       "      <td>5</td>\n",
       "      <td>5</td>\n",
       "    </tr>\n",
       "    <tr>\n",
       "      <th>4</th>\n",
       "      <td>2021/08/14 4:39:43 pm EET</td>\n",
       "      <td>4</td>\n",
       "      <td>5</td>\n",
       "      <td>4</td>\n",
       "      <td>4</td>\n",
       "      <td>5</td>\n",
       "    </tr>\n",
       "  </tbody>\n",
       "</table>\n",
       "</div>"
      ],
      "text/plain": [
       "                   Timestamp  \\\n",
       "0  2021/08/11 4:42:09 pm EET   \n",
       "1  2021/08/11 5:50:00 pm EET   \n",
       "2  2021/08/12 1:15:20 pm EET   \n",
       "3  2021/08/12 3:22:31 pm EET   \n",
       "4  2021/08/14 4:39:43 pm EET   \n",
       "\n",
       "   How relevant were the asked questions during the registration for generating the best possible mentor - mentee match?  \\\n",
       "0                                                  4                                                                       \n",
       "1                                                  5                                                                       \n",
       "2                                                  4                                                                       \n",
       "3                                                  5                                                                       \n",
       "4                                                  4                                                                       \n",
       "\n",
       "   How would you rate the flow of the interface? I.e. How easy was for you to accomplish each of the assigned tasks?  \\\n",
       "0                                                  5                                                                   \n",
       "1                                                  5                                                                   \n",
       "2                                                  5                                                                   \n",
       "3                                                  5                                                                   \n",
       "4                                                  5                                                                   \n",
       "\n",
       "   How accurate was the recommendation you received based on your given datapoints  \\\n",
       "0                                                  4                                 \n",
       "1                                                  3                                 \n",
       "2                                                  5                                 \n",
       "3                                                  3                                 \n",
       "4                                                  4                                 \n",
       "\n",
       "   How would you rate the User Interface as a whole?  \\\n",
       "0                                                  4   \n",
       "1                                                  4   \n",
       "2                                                  4   \n",
       "3                                                  5   \n",
       "4                                                  4   \n",
       "\n",
       "   How would you rate the proposed solution to help connect mentors and mentees across the globe?  \n",
       "0                                                  4                                               \n",
       "1                                                  4                                               \n",
       "2                                                  4                                               \n",
       "3                                                  5                                               \n",
       "4                                                  5                                               "
      ]
     },
     "execution_count": 4,
     "metadata": {},
     "output_type": "execute_result"
    }
   ],
   "source": [
    "df1.head()"
   ]
  },
  {
   "cell_type": "code",
   "execution_count": 5,
   "metadata": {},
   "outputs": [
    {
     "name": "stdout",
     "output_type": "stream",
     "text": [
      "<class 'pandas.core.frame.DataFrame'>\n",
      "RangeIndex: 5 entries, 0 to 4\n",
      "Data columns (total 6 columns):\n",
      " #   Column                                                                                                                 Non-Null Count  Dtype \n",
      "---  ------                                                                                                                 --------------  ----- \n",
      " 0   Timestamp                                                                                                              5 non-null      object\n",
      " 1   How relevant were the asked questions during the registration for generating the best possible mentor - mentee match?  5 non-null      int64 \n",
      " 2   How would you rate the flow of the interface? I.e. How easy was for you to accomplish each of the assigned tasks?      5 non-null      int64 \n",
      " 3   How accurate was the recommendation you received based on your given datapoints                                        5 non-null      int64 \n",
      " 4   How would you rate the User Interface as a whole?                                                                      5 non-null      int64 \n",
      " 5   How would you rate the proposed solution to help connect mentors and mentees across the globe?                         5 non-null      int64 \n",
      "dtypes: int64(5), object(1)\n",
      "memory usage: 368.0+ bytes\n"
     ]
    }
   ],
   "source": [
    "# show the type of data we are going to be working with\n",
    "df1.info()"
   ]
  },
  {
   "cell_type": "markdown",
   "metadata": {},
   "source": [
    "It must be noted that analyzing an application could be very subjective, however with different data points about user´s perception of an app we can get an overview of how weel does the app performs. \n",
    "With this in mind and after doing literature research, three key  insights were defined to measure users perception relevance and the UI, UX & functionalities of the interface. These would be asked directly to the users after the user tesitng:\n",
    "- 1) How would you rate the User Interface as a whole = ui_score\n",
    "- 2)  How would you rate the flow of the interface? I.e. How easy was for you to accomplish each of the assigned tasks? = flow_score  \n",
    "- 3)  How accurate was the recommendation you received based on your given datapoints = recommendation_score\n",
    "- 4) How would you rate the proposed solution to help connect mentors and mentees across the globe? : app_relevance\n"
   ]
  },
  {
   "cell_type": "code",
   "execution_count": 6,
   "metadata": {},
   "outputs": [],
   "source": [
    "#make variable for renaming col_names "
   ]
  },
  {
   "cell_type": "code",
   "execution_count": 7,
   "metadata": {},
   "outputs": [],
   "source": [
    "col_names = {'How relevant were the asked questions during the registration for generating the best possible mentor - mentee match?' : 'questions_importance', 'How would you rate the flow of the interface? I.e. How easy was for you to accomplish each of the assigned tasks?' : 'flow_score', 'How accurate was the recommendation you received based on your given datapoints' : 'recom_score', 'How would you rate the User Interface as a whole?': 'ui_score', 'How would you rate the proposed solution to help connect mentors and mentees across the globe?' : 'app_relevance'}"
   ]
  },
  {
   "cell_type": "code",
   "execution_count": 8,
   "metadata": {},
   "outputs": [],
   "source": [
    "#create new df with renamed col_names\n",
    "df = df1.rename(columns=col_names)\n",
    "#drop time stamp\n",
    "df = df.drop([\"Timestamp\"], axis=1)"
   ]
  },
  {
   "cell_type": "code",
   "execution_count": 9,
   "metadata": {},
   "outputs": [
    {
     "data": {
      "text/html": [
       "<div>\n",
       "<style scoped>\n",
       "    .dataframe tbody tr th:only-of-type {\n",
       "        vertical-align: middle;\n",
       "    }\n",
       "\n",
       "    .dataframe tbody tr th {\n",
       "        vertical-align: top;\n",
       "    }\n",
       "\n",
       "    .dataframe thead th {\n",
       "        text-align: right;\n",
       "    }\n",
       "</style>\n",
       "<table border=\"1\" class=\"dataframe\">\n",
       "  <thead>\n",
       "    <tr style=\"text-align: right;\">\n",
       "      <th></th>\n",
       "      <th>questions_importance</th>\n",
       "      <th>flow_score</th>\n",
       "      <th>recom_score</th>\n",
       "      <th>ui_score</th>\n",
       "      <th>app_relevance</th>\n",
       "    </tr>\n",
       "  </thead>\n",
       "  <tbody>\n",
       "    <tr>\n",
       "      <th>0</th>\n",
       "      <td>4</td>\n",
       "      <td>5</td>\n",
       "      <td>4</td>\n",
       "      <td>4</td>\n",
       "      <td>4</td>\n",
       "    </tr>\n",
       "    <tr>\n",
       "      <th>1</th>\n",
       "      <td>5</td>\n",
       "      <td>5</td>\n",
       "      <td>3</td>\n",
       "      <td>4</td>\n",
       "      <td>4</td>\n",
       "    </tr>\n",
       "    <tr>\n",
       "      <th>2</th>\n",
       "      <td>4</td>\n",
       "      <td>5</td>\n",
       "      <td>5</td>\n",
       "      <td>4</td>\n",
       "      <td>4</td>\n",
       "    </tr>\n",
       "    <tr>\n",
       "      <th>3</th>\n",
       "      <td>5</td>\n",
       "      <td>5</td>\n",
       "      <td>3</td>\n",
       "      <td>5</td>\n",
       "      <td>5</td>\n",
       "    </tr>\n",
       "    <tr>\n",
       "      <th>4</th>\n",
       "      <td>4</td>\n",
       "      <td>5</td>\n",
       "      <td>4</td>\n",
       "      <td>4</td>\n",
       "      <td>5</td>\n",
       "    </tr>\n",
       "  </tbody>\n",
       "</table>\n",
       "</div>"
      ],
      "text/plain": [
       "   questions_importance  flow_score  recom_score  ui_score  app_relevance\n",
       "0                     4           5            4         4              4\n",
       "1                     5           5            3         4              4\n",
       "2                     4           5            5         4              4\n",
       "3                     5           5            3         5              5\n",
       "4                     4           5            4         4              5"
      ]
     },
     "execution_count": 9,
     "metadata": {},
     "output_type": "execute_result"
    }
   ],
   "source": [
    "df.head()"
   ]
  },
  {
   "cell_type": "markdown",
   "metadata": {},
   "source": [
    "## General insights from Data"
   ]
  },
  {
   "cell_type": "markdown",
   "metadata": {},
   "source": [
    "When analazyng Data, it is very helpful to get a quick overview of the numerical values in question. In this case the User Experience will be analyzed with the numerical parameters stablished before.\n",
    "With .describe() its possible to get immediately relevant insights about the distribution of values.\n",
    "The mean indicates the average of the obtained values\n",
    "The standard deviation indicates how far is each value from the mean.\n",
    "The min and max shows the lowest and highest value of the data.\n"
   ]
  },
  {
   "cell_type": "code",
   "execution_count": 10,
   "metadata": {},
   "outputs": [
    {
     "data": {
      "text/html": [
       "<div>\n",
       "<style scoped>\n",
       "    .dataframe tbody tr th:only-of-type {\n",
       "        vertical-align: middle;\n",
       "    }\n",
       "\n",
       "    .dataframe tbody tr th {\n",
       "        vertical-align: top;\n",
       "    }\n",
       "\n",
       "    .dataframe thead th {\n",
       "        text-align: right;\n",
       "    }\n",
       "</style>\n",
       "<table border=\"1\" class=\"dataframe\">\n",
       "  <thead>\n",
       "    <tr style=\"text-align: right;\">\n",
       "      <th></th>\n",
       "      <th>questions_importance</th>\n",
       "      <th>flow_score</th>\n",
       "      <th>recom_score</th>\n",
       "      <th>ui_score</th>\n",
       "      <th>app_relevance</th>\n",
       "    </tr>\n",
       "  </thead>\n",
       "  <tbody>\n",
       "    <tr>\n",
       "      <th>count</th>\n",
       "      <td>5.000000</td>\n",
       "      <td>5.0</td>\n",
       "      <td>5.00000</td>\n",
       "      <td>5.000000</td>\n",
       "      <td>5.000000</td>\n",
       "    </tr>\n",
       "    <tr>\n",
       "      <th>mean</th>\n",
       "      <td>4.400000</td>\n",
       "      <td>5.0</td>\n",
       "      <td>3.80000</td>\n",
       "      <td>4.200000</td>\n",
       "      <td>4.400000</td>\n",
       "    </tr>\n",
       "    <tr>\n",
       "      <th>std</th>\n",
       "      <td>0.547723</td>\n",
       "      <td>0.0</td>\n",
       "      <td>0.83666</td>\n",
       "      <td>0.447214</td>\n",
       "      <td>0.547723</td>\n",
       "    </tr>\n",
       "    <tr>\n",
       "      <th>min</th>\n",
       "      <td>4.000000</td>\n",
       "      <td>5.0</td>\n",
       "      <td>3.00000</td>\n",
       "      <td>4.000000</td>\n",
       "      <td>4.000000</td>\n",
       "    </tr>\n",
       "    <tr>\n",
       "      <th>25%</th>\n",
       "      <td>4.000000</td>\n",
       "      <td>5.0</td>\n",
       "      <td>3.00000</td>\n",
       "      <td>4.000000</td>\n",
       "      <td>4.000000</td>\n",
       "    </tr>\n",
       "    <tr>\n",
       "      <th>50%</th>\n",
       "      <td>4.000000</td>\n",
       "      <td>5.0</td>\n",
       "      <td>4.00000</td>\n",
       "      <td>4.000000</td>\n",
       "      <td>4.000000</td>\n",
       "    </tr>\n",
       "    <tr>\n",
       "      <th>75%</th>\n",
       "      <td>5.000000</td>\n",
       "      <td>5.0</td>\n",
       "      <td>4.00000</td>\n",
       "      <td>4.000000</td>\n",
       "      <td>5.000000</td>\n",
       "    </tr>\n",
       "    <tr>\n",
       "      <th>max</th>\n",
       "      <td>5.000000</td>\n",
       "      <td>5.0</td>\n",
       "      <td>5.00000</td>\n",
       "      <td>5.000000</td>\n",
       "      <td>5.000000</td>\n",
       "    </tr>\n",
       "  </tbody>\n",
       "</table>\n",
       "</div>"
      ],
      "text/plain": [
       "       questions_importance  flow_score  recom_score  ui_score  app_relevance\n",
       "count              5.000000         5.0      5.00000  5.000000       5.000000\n",
       "mean               4.400000         5.0      3.80000  4.200000       4.400000\n",
       "std                0.547723         0.0      0.83666  0.447214       0.547723\n",
       "min                4.000000         5.0      3.00000  4.000000       4.000000\n",
       "25%                4.000000         5.0      3.00000  4.000000       4.000000\n",
       "50%                4.000000         5.0      4.00000  4.000000       4.000000\n",
       "75%                5.000000         5.0      4.00000  4.000000       5.000000\n",
       "max                5.000000         5.0      5.00000  5.000000       5.000000"
      ]
     },
     "execution_count": 10,
     "metadata": {},
     "output_type": "execute_result"
    }
   ],
   "source": [
    "df.describe()"
   ]
  },
  {
   "cell_type": "markdown",
   "metadata": {},
   "source": [
    "User´s perception of User Interface was measured by **four** factors based on users interaction with the app.\n",
    "\n",
    "- 1) **UI Score (User Interface Score)**: Rates how relevant is the app layout for their purposes within the app. A higher value means that its very important.\n",
    "- 2) **Flow Score**: Navigation easiness within app. It seeks to find if users can navigate easily towards finding what they are looking within the app \n",
    "- 3) **recomm_score**: accuracy of recommendations. \n",
    "- 4) **app_relevance**: general perception of app\n",
    " \n",
    " Users were asked to rate from 1 to 5 these three key functionalitites of the prototype.\n"
   ]
  },
  {
   "cell_type": "code",
   "execution_count": 11,
   "metadata": {},
   "outputs": [
    {
     "data": {
      "text/html": [
       "<div>\n",
       "<style scoped>\n",
       "    .dataframe tbody tr th:only-of-type {\n",
       "        vertical-align: middle;\n",
       "    }\n",
       "\n",
       "    .dataframe tbody tr th {\n",
       "        vertical-align: top;\n",
       "    }\n",
       "\n",
       "    .dataframe thead th {\n",
       "        text-align: right;\n",
       "    }\n",
       "</style>\n",
       "<table border=\"1\" class=\"dataframe\">\n",
       "  <thead>\n",
       "    <tr style=\"text-align: right;\">\n",
       "      <th></th>\n",
       "      <th>questions_importance</th>\n",
       "      <th>flow_score</th>\n",
       "      <th>recom_score</th>\n",
       "      <th>ui_score</th>\n",
       "      <th>app_relevance</th>\n",
       "    </tr>\n",
       "  </thead>\n",
       "  <tbody>\n",
       "    <tr>\n",
       "      <th>questions_importance</th>\n",
       "      <td>1.000000</td>\n",
       "      <td>NaN</td>\n",
       "      <td>-0.872872</td>\n",
       "      <td>0.612372</td>\n",
       "      <td>0.166667</td>\n",
       "    </tr>\n",
       "    <tr>\n",
       "      <th>flow_score</th>\n",
       "      <td>NaN</td>\n",
       "      <td>NaN</td>\n",
       "      <td>NaN</td>\n",
       "      <td>NaN</td>\n",
       "      <td>NaN</td>\n",
       "    </tr>\n",
       "    <tr>\n",
       "      <th>recom_score</th>\n",
       "      <td>-0.872872</td>\n",
       "      <td>NaN</td>\n",
       "      <td>1.000000</td>\n",
       "      <td>-0.534522</td>\n",
       "      <td>-0.327327</td>\n",
       "    </tr>\n",
       "    <tr>\n",
       "      <th>ui_score</th>\n",
       "      <td>0.612372</td>\n",
       "      <td>NaN</td>\n",
       "      <td>-0.534522</td>\n",
       "      <td>1.000000</td>\n",
       "      <td>0.612372</td>\n",
       "    </tr>\n",
       "    <tr>\n",
       "      <th>app_relevance</th>\n",
       "      <td>0.166667</td>\n",
       "      <td>NaN</td>\n",
       "      <td>-0.327327</td>\n",
       "      <td>0.612372</td>\n",
       "      <td>1.000000</td>\n",
       "    </tr>\n",
       "  </tbody>\n",
       "</table>\n",
       "</div>"
      ],
      "text/plain": [
       "                      questions_importance  flow_score  recom_score  ui_score  \\\n",
       "questions_importance              1.000000         NaN    -0.872872  0.612372   \n",
       "flow_score                             NaN         NaN          NaN       NaN   \n",
       "recom_score                      -0.872872         NaN     1.000000 -0.534522   \n",
       "ui_score                          0.612372         NaN    -0.534522  1.000000   \n",
       "app_relevance                     0.166667         NaN    -0.327327  0.612372   \n",
       "\n",
       "                      app_relevance  \n",
       "questions_importance       0.166667  \n",
       "flow_score                      NaN  \n",
       "recom_score               -0.327327  \n",
       "ui_score                   0.612372  \n",
       "app_relevance              1.000000  "
      ]
     },
     "execution_count": 11,
     "metadata": {},
     "output_type": "execute_result"
    }
   ],
   "source": [
    "df.corr()"
   ]
  },
  {
   "cell_type": "code",
   "execution_count": 12,
   "metadata": {},
   "outputs": [
    {
     "data": {
      "text/plain": [
       "<Figure size 432x288 with 0 Axes>"
      ]
     },
     "metadata": {},
     "output_type": "display_data"
    },
    {
     "data": {
      "image/png": "[encoded data removed]",
      "text/plain": [
       "<Figure size 432x288 with 1 Axes>"
      ]
     },
     "metadata": {
      "needs_background": "light"
     },
     "output_type": "display_data"
    }
   ],
   "source": [
    "#Stacked chart of scores\n",
    "plt.figure();\n",
    "df.plot.hist(stacked=True, bins=10);"
   ]
  },
  {
   "cell_type": "code",
   "execution_count": 13,
   "metadata": {},
   "outputs": [
    {
     "name": "stderr",
     "output_type": "stream",
     "text": [
      "C:\\Users\\raimu\\Anaconda3\\lib\\site-packages\\seaborn\\distributions.py:283: UserWarning: Data must have variance to compute a kernel density estimate.\n",
      "  warnings.warn(msg, UserWarning)\n"
     ]
    },
    {
     "data": {
      "image/png": "[encoded data removed]",
      "text/plain": [
       "<Figure size 432x288 with 1 Axes>"
      ]
     },
     "metadata": {
      "needs_background": "light"
     },
     "output_type": "display_data"
    }
   ],
   "source": [
    "sns.distplot(df['flow_score'], kde=True)\n",
    "plt.title('Prototype´s Flow score')\n",
    "plt.xlabel('score')\n",
    "plt.ylabel('Percentage(%)')\n",
    "plt.show()"
   ]
  },
  {
   "cell_type": "code",
   "execution_count": 14,
   "metadata": {},
   "outputs": [
    {
     "name": "stderr",
     "output_type": "stream",
     "text": [
      "C:\\Users\\raimu\\Anaconda3\\lib\\site-packages\\seaborn\\distributions.py:369: UserWarning: Default bandwidth for data is 0; skipping density estimation.\n",
      "  warnings.warn(msg, UserWarning)\n"
     ]
    },
    {
     "data": {
      "image/png": "[encoded data removed]",
      "text/plain": [
       "<Figure size 432x288 with 1 Axes>"
      ]
     },
     "metadata": {
      "needs_background": "light"
     },
     "output_type": "display_data"
    }
   ],
   "source": [
    "sns.distplot(df['ui_score'], kde=True)\n",
    "plt.title('Prototype´s User Interface score')\n",
    "plt.xlabel('score')\n",
    "plt.ylabel('Percentage(%)')\n",
    "plt.show()"
   ]
  },
  {
   "cell_type": "code",
   "execution_count": 15,
   "metadata": {},
   "outputs": [
    {
     "data": {
      "image/png": "[encoded data removed]",
      "text/plain": [
       "<Figure size 432x288 with 1 Axes>"
      ]
     },
     "metadata": {
      "needs_background": "light"
     },
     "output_type": "display_data"
    }
   ],
   "source": [
    "sns.distplot(df['recom_score'], kde=True)\n",
    "plt.title('Prototype´s recommendaiton score relevance')\n",
    "plt.xlabel('score')\n",
    "plt.ylabel('Percentage(%)')\n",
    "plt.show()"
   ]
  },
  {
   "cell_type": "code",
   "execution_count": 16,
   "metadata": {},
   "outputs": [
    {
     "data": {
      "image/png": "[encoded data removed]",
      "text/plain": [
       "<Figure size 432x288 with 1 Axes>"
      ]
     },
     "metadata": {
      "needs_background": "light"
     },
     "output_type": "display_data"
    }
   ],
   "source": [
    "sns.distplot(df['app_relevance'], kde=True)\n",
    "plt.title('Prototype´s whole relevance')\n",
    "plt.xlabel('score')\n",
    "plt.ylabel('Percentage(%)')\n",
    "plt.show()"
   ]
  },
  {
   "cell_type": "code",
   "execution_count": null,
   "metadata": {},
   "outputs": [],
   "source": []
  }
 ],
 "metadata": {
  "kernelspec": {
   "display_name": "Python 3",
   "language": "python",
   "name": "python3"
  },
  "language_info": {
   "codemirror_mode": {
    "name": "ipython",
    "version": 3
   },
   "file_extension": ".py",
   "mimetype": "text/x-python",
   "name": "python",
   "nbconvert_exporter": "python",
   "pygments_lexer": "ipython3",
   "version": "3.8.3"
  }
 },
 "nbformat": 4,
 "nbformat_minor": 4
}
